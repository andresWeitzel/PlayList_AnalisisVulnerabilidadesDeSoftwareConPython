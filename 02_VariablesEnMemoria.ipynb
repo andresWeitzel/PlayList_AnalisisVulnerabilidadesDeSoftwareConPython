{
 "cells": [
  {
   "cell_type": "code",
   "execution_count": 3,
   "id": "c1892b3d",
   "metadata": {},
   "outputs": [
    {
     "name": "stdout",
     "output_type": "stream",
     "text": [
      "La variable primeraOperacion tiene 24 Bytes, y es de tipo <class 'float'>\n"
     ]
    }
   ],
   "source": [
    "'''\n",
    "En relacion al Manejo de datos sabemos que podemos limitar\n",
    "el tipo de dato al deseado convirtiendolo y siguiendo la\n",
    "logica, el decimal pesa mas en memoria que el entero, entonces\n",
    "si pasamos un decimal a entero nos ahorramos unos cuantos\n",
    "bytes en memoria, pero te quiero mostrar que no es asi.\n",
    "\n",
    "Trabajamos con el modulo sys para comprobar el tamaño de \n",
    "nuestras variables.\n",
    "\n",
    "OJO: EL METODO DEL MODULO SYS NOS DEVUELVE EL TAMAÑO DEL\n",
    "OBJETO EN MEMORIA, NO EL TAMAÑO REAL DEL TIPO DE DATO.\n",
    "EJ->\n",
    "NUMERO = 5 # Variable Objeto en memoria de tipo int\n",
    "'''\n",
    "\n",
    "import sys \n",
    "\n",
    "numero01=136666\n",
    "numero02=0\n",
    "numero03=44.98\n",
    "\n",
    "primeraOperacion = numero01 + numero02 + numero03\n",
    "\n",
    "\n",
    "print(\"La variable primeraOperacion tiene\"\n",
    "      ,sys.getsizeof(primeraOperacion)\n",
    "      ,\"Bytes, y es de tipo\"\n",
    "      ,type(primeraOperacion))\n",
    "\n"
   ]
  },
  {
   "cell_type": "code",
   "execution_count": 4,
   "id": "da4b5ab6",
   "metadata": {},
   "outputs": [
    {
     "name": "stdout",
     "output_type": "stream",
     "text": [
      "La variable Convertida primeraOperacion tiene 28 Bytes, y es de tipo <class 'int'>\n"
     ]
    }
   ],
   "source": [
    "'''\n",
    "Vamos a convertir el decimal a entero y ver su tamaño\n",
    "'''\n",
    "\n",
    "primeraOperacionConversion = int(primeraOperacion)\n",
    "\n",
    "print(\"La variable Convertida primeraOperacion tiene\"\n",
    "      ,sys.getsizeof(primeraOperacionConversion)\n",
    "      ,\"Bytes, y es de tipo\"\n",
    "      ,type(primeraOperacionConversion))\n",
    "\n",
    "\n"
   ]
  },
  {
   "cell_type": "code",
   "execution_count": null,
   "id": "70abafba",
   "metadata": {},
   "outputs": [],
   "source": []
  }
 ],
 "metadata": {
  "kernelspec": {
   "display_name": "Python 3",
   "language": "python",
   "name": "python3"
  },
  "language_info": {
   "codemirror_mode": {
    "name": "ipython",
    "version": 3
   },
   "file_extension": ".py",
   "mimetype": "text/x-python",
   "name": "python",
   "nbconvert_exporter": "python",
   "pygments_lexer": "ipython3",
   "version": "3.8.3"
  }
 },
 "nbformat": 4,
 "nbformat_minor": 5
}
