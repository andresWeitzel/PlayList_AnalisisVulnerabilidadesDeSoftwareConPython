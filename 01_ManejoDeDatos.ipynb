{
 "cells": [
  {
   "cell_type": "code",
   "execution_count": 1,
   "id": "4fdc835e",
   "metadata": {},
   "outputs": [
    {
     "data": {
      "text/plain": [
       "int"
      ]
     },
     "execution_count": 1,
     "metadata": {},
     "output_type": "execute_result"
    }
   ],
   "source": [
    "'''\n",
    "\n",
    "Clase   | Tipo      | Notas                             |Ejemplo\n",
    "\n",
    "int\t    |Números\t|Número entero con precisión fija.\t|42\n",
    "long\t|Números\t|Número entero en caso de overflow.\t|42L ó 456966786151987643L\n",
    "float\t|Números\t|Coma flotante de doble precisión.\t|3.1415927\n",
    "complex\t|Números\t|Parte real y parte imaginaria j.\t|(4.5 + 3j)\n",
    "\n",
    "'''\n",
    "\n",
    "variableEntera = 42 \n",
    "\n",
    "type(variableEntera)"
   ]
  },
  {
   "cell_type": "code",
   "execution_count": 2,
   "id": "06ab7e94",
   "metadata": {},
   "outputs": [
    {
     "data": {
      "text/plain": [
       "int"
      ]
     },
     "execution_count": 2,
     "metadata": {},
     "output_type": "execute_result"
    }
   ],
   "source": [
    "variableEntera = 423243 \n",
    "\n",
    "type(variableEntera)"
   ]
  },
  {
   "cell_type": "code",
   "execution_count": 26,
   "id": "7fd278d6",
   "metadata": {},
   "outputs": [
    {
     "data": {
      "text/plain": [
       "int"
      ]
     },
     "execution_count": 26,
     "metadata": {},
     "output_type": "execute_result"
    }
   ],
   "source": [
    "variableEntera = 423243.789\n",
    "\n",
    "type(variableEntera)"
   ]
  },
  {
   "cell_type": "code",
   "execution_count": 21,
   "id": "c3614bc2",
   "metadata": {},
   "outputs": [
    {
     "name": "stdout",
     "output_type": "stream",
     "text": [
      "423243\n"
     ]
    },
    {
     "data": {
      "text/plain": [
       "int"
      ]
     },
     "execution_count": 21,
     "metadata": {},
     "output_type": "execute_result"
    }
   ],
   "source": [
    "'''\n",
    "Si creamos una variable con un nombre que solo almacena variables\n",
    "enteras\n",
    "porque podemos guardar decimales? POR QUE LAS VARIABLES EN PYTHON \n",
    "SON DINAMICAS\n",
    "Para mi está bueno este dinamismo para ahorrar tiempo en desarrollo,\n",
    "pero presenta\n",
    "la inseguridad del cambio de dato en la variable.\n",
    "Una forma de asegurarnos de que nustra variable sea de un solo tipo es \n",
    "al final de nuestro programa convertirlo a ese tipo \n",
    "'''\n",
    "variableEntera = int(423243.789)\n",
    "\n",
    "print(variableEntera)\n",
    "type(variableEntera)\n"
   ]
  },
  {
   "cell_type": "code",
   "execution_count": 31,
   "id": "3b7366b1",
   "metadata": {},
   "outputs": [
    {
     "name": "stdout",
     "output_type": "stream",
     "text": [
      "13.0\n"
     ]
    },
    {
     "data": {
      "text/plain": [
       "float"
      ]
     },
     "execution_count": 31,
     "metadata": {},
     "output_type": "execute_result"
    }
   ],
   "source": [
    "variableDecimal = float(13) \n",
    "\n",
    "print(variableDecimal)\n",
    "type(variableDecimal)\n"
   ]
  },
  {
   "cell_type": "code",
   "execution_count": 36,
   "id": "f7f87b1a",
   "metadata": {},
   "outputs": [
    {
     "name": "stdout",
     "output_type": "stream",
     "text": [
      "\n",
      " El resultado de la Suma es 17.98\n",
      "El tipo de dato de la suma es <class 'float'> !!\n",
      "\n",
      " El Nuevo resultado de la Suma es 17\n",
      "Nos aseguramos que al finalizar nuestro algoritmo, la suma sea de tipo <class 'int'> !!\n"
     ]
    }
   ],
   "source": [
    "'''\n",
    "Realizamos una operacion aritmetica basica y nos aseguramos de tener\n",
    "un entero\n",
    "como valor en la variable final.\n",
    "Se Pierde Información porque se recortan Digitos, pero mantenemos \n",
    "la integridad del nombre de nuestra variable\n",
    "\n",
    "'''\n",
    "\n",
    "variable01=5\n",
    "\n",
    "variable02=12.98\n",
    "\n",
    "suma = variable01 + variable02\n",
    "\n",
    "print(\"\\n El resultado de la Suma es\",suma)\n",
    "print(\"El tipo de dato de la suma es\",type(suma),\"!!\")\n",
    "\n",
    "\n",
    "suma=int(suma)\n",
    "\n",
    "print(\"\\n El Nuevo resultado de la Suma es\",suma)\n",
    "print(\"Nos aseguramos que al finalizar nuestro algoritmo, la suma sea de tipo\",type(suma),\"!!\")\n",
    "\n",
    "\n",
    "\n",
    "\n"
   ]
  },
  {
   "cell_type": "code",
   "execution_count": null,
   "id": "9d26c368",
   "metadata": {},
   "outputs": [],
   "source": []
  }
 ],
 "metadata": {
  "kernelspec": {
   "display_name": "Python 3",
   "language": "python",
   "name": "python3"
  },
  "language_info": {
   "codemirror_mode": {
    "name": "ipython",
    "version": 3
   },
   "file_extension": ".py",
   "mimetype": "text/x-python",
   "name": "python",
   "nbconvert_exporter": "python",
   "pygments_lexer": "ipython3",
   "version": "3.8.3"
  }
 },
 "nbformat": 4,
 "nbformat_minor": 5
}
